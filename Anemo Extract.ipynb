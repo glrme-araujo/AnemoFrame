{
 "cells": [
  {
   "cell_type": "markdown",
   "id": "bc5f4f32-0293-4308-9466-f0d951009187",
   "metadata": {},
   "source": [
    "# Extraindo Informações dos PDFs"
   ]
  },
  {
   "cell_type": "markdown",
   "id": "bbd451aa-1573-4aca-bdd2-40212627c854",
   "metadata": {},
   "source": [
    "O script abaixo se baseia em uma rotina de extração de informações de arquivos PDF, e a criação de um banco de dados com essas informações obtidas."
   ]
  },
  {
   "cell_type": "markdown",
   "id": "e188ea17-6306-403d-9e39-c7de48ed092d",
   "metadata": {},
   "source": [
    "## Instalação de Bibliotecas"
   ]
  },
  {
   "cell_type": "code",
   "execution_count": 1,
   "id": "a2111993-a83c-48c0-9650-1959a6a59793",
   "metadata": {},
   "outputs": [],
   "source": [
    "import os # Manusear OS\n",
    "import PyPDF2  # Manusear PDF\n",
    "import pandas as pd # Criar Data Frame\n",
    "import re  # Manusear Strings\n",
    "from datetime import datetime # Extrair data de criação de arquivos\n",
    "from PyPDF2.errors import PdfReadError # Tratar erros de leitura dos PDFs\n",
    "\n",
    " "
   ]
  },
  {
   "cell_type": "markdown",
   "id": "6c094e15-1505-41d1-976c-dd8c898e13c2",
   "metadata": {},
   "source": [
    "## Encontrando todos os PDF's"
   ]
  },
  {
   "cell_type": "markdown",
   "id": "fde85de3-54ce-459c-a946-7640a0212e28",
   "metadata": {},
   "source": [
    "A rotina abaixo mostra a extração dos arquivos com os seguintes critérios:\n",
    "\n",
    "* Deve começar com 101 \"f.startswith('101')\"\n",
    "\n",
    "* Deve terminar com pdf \"f.lower().endswith('.pdf')\"\n",
    "\n",
    "* E não pode conter a palavra 'e1' ou 'e2' no nome do arquivo"
   ]
  },
  {
   "cell_type": "code",
   "execution_count": 2,
   "id": "ea780006-8db6-4099-a28c-809257dc5580",
   "metadata": {},
   "outputs": [],
   "source": [
    "# Caminho do diretório (pode ser o caminho absoluto ou relativo)\n",
    "diretorio = \"caminho\"\n",
    "\n",
    "#diretorio = \"C:/Users/guilhermeas/Documents/teste pdf\"\n",
    "# Listar todos os arquivos e pastas no diretório\n",
    "arquivos = os.listdir(diretorio)\n",
    "\n",
    "# Filtrar apenas os arquivos (ignorando subdiretórios)\n",
    "arquivos_pdf = [f for f in os.listdir(diretorio) if os.path.isfile(os.path.join(diretorio, f)) and f.lower().endswith('.pdf') and f.startswith('101') and \"-e1\" not in f and \"-e2\" not in f ]\n",
    "certificado = [os.path.splitext(f)[0] for f in os.listdir(diretorio) if os.path.isfile(os.path.join(diretorio, f))]\n",
    "\n"
   ]
  },
  {
   "cell_type": "markdown",
   "id": "7307b58e-78df-43f4-a4f7-61d41d0ee043",
   "metadata": {},
   "source": [
    "## Buscando Informações dentro do Arquivo e Limpando dados"
   ]
  },
  {
   "cell_type": "markdown",
   "id": "dd199521-b33f-460f-aa3c-8c1427d9cb7b",
   "metadata": {},
   "source": [
    "Aqui extraimos todos os dados seguindo e filtramos as informações pelas palavras chave (Modelo, Tipo,Número de série)\n",
    "\n",
    "A partir disso limpamos os textos e caracteres desnecessários e criamos um vetor com os dados.\n",
    "\n",
    "O vetor armazenará:\n",
    "\n",
    "* 1 ª Posição: Ano de criação do arquivo.\n",
    "  \n",
    "* 2 ª Posição: Nome do arquivo.\n",
    "\n",
    "* 3 ª Posição: Modelo.\n",
    " \n",
    "* 4 ª Posição: Tipo do equipamento.\n",
    "   \n",
    "* 5 ª Posição: Número de série.\n",
    "     \n",
    "\n",
    "E com o vetor, criamos um banco de dados com 5 colunas, cada coluna corresponde a um equipamento extraido de um arquivo."
   ]
  },
  {
   "cell_type": "code",
   "execution_count": null,
   "id": "7f69f55b-7cda-48c4-a9fa-efd812c703e8",
   "metadata": {},
   "outputs": [],
   "source": [
    "palavras_para_procurar  = ['Modelo' , 'Tipo','Número de série' ] # Palavras-Chave\n",
    "dados = [] # Vetor com os dados encontrados\n",
    "dados_final = []\n",
    "lista_final = []\n",
    "total_arquivos = len(arquivos_pdf)\n",
    "\n",
    "j = 0\n",
    "k= 0\n",
    "for i, arquivo_pdf in enumerate(arquivos_pdf):\n",
    "    \n",
    "    caminho_pdf = os.path.join(diretorio, arquivo_pdf)\n",
    "    timestamp_criacao = os.path.getctime(caminho_pdf)\n",
    "    ano_criacao = datetime.fromtimestamp(timestamp_criacao).year\n",
    "    dados.append(str(ano_criacao))\n",
    "    arquivos_lidos = i + 1\n",
    "    print(f\"Arquivos lidos: {arquivos_lidos}/{total_arquivos}\")\n",
    "    \n",
    "    with open(caminho_pdf, 'rb') as arquivo:\n",
    "        try:\n",
    "\n",
    "            leitor_pdf = PyPDF2.PdfReader(arquivo)\n",
    "            # Lendo o texto da primeira página\n",
    "            dados.append(str(arquivo_pdf))\n",
    "            texto = leitor_pdf.pages[0].extract_text()\n",
    "            lista = texto.splitlines()\n",
    "            j = j+1\n",
    "            for palavra in palavras_para_procurar:\n",
    "                encontrou = False\n",
    "                for linha in lista:\n",
    "                    if palavra in linha:\n",
    "                        encontrou = True\n",
    "                        if \"do copo\" not in linha:\n",
    "                            final = linha.replace(\":\", \" \")\n",
    "                            dados.append(final)\n",
    "                if not encontrou:\n",
    "                    dados.append(f\"{palavra}: não consta\")\n",
    "                \n",
    "\n",
    "                \n",
    "        except PdfReadError:\n",
    "            print(f\"Erro: O arquivo '{caminho_pdf}' está corrompido ou não é um PDF válido.\")\n",
    "        except FileNotFoundError:\n",
    "            print(f\"Erro: O arquivo '{caminho_pdf}' não foi encontrado.\")\n",
    "        except Exception as e:\n",
    "            print(f\"Erro inesperado: {e}\")\n"
   ]
  },
  {
   "cell_type": "code",
   "execution_count": 5,
   "id": "6f58600d-06c9-4dbb-833e-76dc63138384",
   "metadata": {},
   "outputs": [],
   "source": [
    "lixo = [\"do copo\" , \"do corpo\",]\n",
    "\n",
    "\n",
    "for inf in dados:\n",
    "    pattern = r\"\\b(?:{})\\b\".format(\"|\".join(palavras_para_procurar))\n",
    "\n",
    "                # Remover as palavras\n",
    "    inf = re.sub(pattern, \"\", inf)\n",
    "\n",
    "    pattern = r\"\\b(?:{})\\b\".format(\"|\".join(lixo))\n",
    "\n",
    "                # Remover as palavras\n",
    "    inf = re.sub(pattern, \"\", inf)\n",
    "    dados_final.append(inf)\n",
    "    lista_final.append(dados_final)\n",
    "            \n",
    "    \n",
    "    "
   ]
  },
  {
   "cell_type": "code",
   "execution_count": null,
   "id": "1928857c-1e38-411d-8d15-86e0eb8b83c6",
   "metadata": {},
   "outputs": [],
   "source": [
    "\n",
    "lista_final = lista_final[1]\n",
    "colunas = len(palavras_para_procurar)+2\n",
    "matriz = [lista_final[i:i+colunas] for i in range(0, len(lista_final), colunas)]\n",
    "\n",
    "for linha in matriz:\n",
    "         \n",
    "\n",
    "    print(linha)"
   ]
  },
  {
   "cell_type": "markdown",
   "id": "7af8cd88-185f-4e77-8555-f15794b82c92",
   "metadata": {},
   "source": [
    "##  Gerando Dataframe\n",
    "Aqui é gerado o dataframe, especificando os nomes de cada coluna e então é exportado para um arquivo .excel e .csv"
   ]
  },
  {
   "cell_type": "code",
   "execution_count": 9,
   "id": "e679c7df-fdc1-45c5-86c3-a6931a9dcf34",
   "metadata": {},
   "outputs": [],
   "source": [
    "\n",
    "df = pd.DataFrame(matriz)\n",
    "df.columns = [\"Ano\" , \"Certificado\", \"Tipo\", \"Modelo\", \"Número de Série\"]\n",
    "\n",
    "df_certificados= pd.DataFrame(arquivos_pdf)"
   ]
  },
  {
   "cell_type": "code",
   "execution_count": 10,
   "id": "c452778e-470b-4b16-af8a-38b158430caf",
   "metadata": {},
   "outputs": [],
   "source": [
    "df.to_excel('banco de dados.xlsx', index=False)\n",
    "df.to_csv('banco de dados.csv', index=False)\n",
    "df_certificados.to_csv('certificados salvos.csv' , index=False)"
   ]
  }
 ],
 "metadata": {
  "kernelspec": {
   "display_name": "Python 3 (ipykernel)",
   "language": "python",
   "name": "python3"
  },
  "language_info": {
   "codemirror_mode": {
    "name": "ipython",
    "version": 3
   },
   "file_extension": ".py",
   "mimetype": "text/x-python",
   "name": "python",
   "nbconvert_exporter": "python",
   "pygments_lexer": "ipython3",
   "version": "3.10.5"
  }
 },
 "nbformat": 4,
 "nbformat_minor": 5
}
